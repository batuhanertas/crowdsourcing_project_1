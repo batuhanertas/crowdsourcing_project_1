{
 "cells": [
  {
   "cell_type": "code",
   "execution_count": 1,
   "id": "7ab98f44",
   "metadata": {},
   "outputs": [],
   "source": [
    "import pandas as pd\n",
    "import numpy as np\n",
    "import seaborn as sns\n",
    "import matplotlib.pyplot as plt\n",
    "import json\n",
    "import requests"
   ]
  },
  {
   "cell_type": "code",
   "execution_count": 2,
   "id": "cae37b6e",
   "metadata": {},
   "outputs": [],
   "source": [
    "df = pd.read_csv(\"mock_data.csv\")"
   ]
  },
  {
   "cell_type": "code",
   "execution_count": 3,
   "id": "a44063c0",
   "metadata": {},
   "outputs": [],
   "source": [
    "# generates a list of species name grouped by col_name\n",
    "def gen_sets_by_col(df, col_name):\n",
    "    classes = df[col_name].unique()\n",
    "    all_set = []\n",
    "    for c in classes:\n",
    "        s = list(df[df[col_name] == c][\"Species\"])\n",
    "        all_set.extend(s)\n",
    "    return all_set\n",
    "\n",
    "# MOCK\n",
    "# def findDegrees(source, target):\n",
    "#     idx = np.random.randint(3)\n",
    "#     arr = np.zeros(3)\n",
    "#     val = np.random.randint(10)\n",
    "#     arr[idx] = val\n",
    "#     return arr\n",
    "\n",
    "# TODO: what if the page doesn't exists?\n",
    "def findDegrees(source, target):\n",
    "    payload = {\"source\": source, \"target\": target}\n",
    "    headers = {'Accept': 'application/json, text/plain, */*', 'Content-Type': 'application/json;charset=UTF-8'}\n",
    "    url = 'https://api.sixdegreesofwikipedia.com/paths'\n",
    "    response = requests.post(url, data=json.dumps(payload), headers=headers)\n",
    "    number_of_degrees = len(response.json()['paths'][0]) - 1\n",
    "    number_of_paths = len(response.json()['paths'])\n",
    "\n",
    "    occurrences = [0, 0, 0]\n",
    "\n",
    "    if number_of_degrees == 1:\n",
    "        occurrences[0] = number_of_paths\n",
    "    elif number_of_degrees == 2:\n",
    "        occurrences[1] = number_of_paths\n",
    "    else:\n",
    "        occurrences[2] = number_of_paths\n",
    "\n",
    "    return occurrences\n",
    "\n",
    "# calculates the similarity\n",
    "def sim(source, target):\n",
    "    w = np.array([4,2,1])\n",
    "    avg_link = (findDegrees(source, target) + findDegrees(target, source)) / 2\n",
    "    return np.sum(w * avg_link)\n",
    "\n",
    "# generate the simularity matrix\n",
    "# Note that the matrix is symmetric because sim(x,y) == sim(y,x)\n",
    "def gen_matrix(lst):\n",
    "    n = len(lst)\n",
    "    arr = np.zeros((n,n))\n",
    "    for i in range(n):\n",
    "        for j in range(i + 1):\n",
    "            if (i == j):\n",
    "                arr[i][i] = sim(lst[i], lst[i])\n",
    "            else:\n",
    "                t = sim(lst[i], lst[j])\n",
    "                arr[i][j] = t\n",
    "                arr[j][i] = t\n",
    "    return arr\n",
    "\n",
    "# generates a meatmap from the data frame df grouped by col_name\n",
    "def gen_heatmap(df,col_name):\n",
    "    lst = gen_sets_by_col(df, col_name)\n",
    "    sim_mat = gen_matrix(lst)\n",
    "    ax = sns.heatmap(sim_mat, cbar_kws={'label': 'Similarity value'})\n",
    "    plt.xlabel(\"index of animal\") \n",
    "    plt.ylabel(\"index of animal\")\n",
    "    plt.title(f\"Similarities between animals by {col_name}\")\n",
    "    plt.show() "
   ]
  },
  {
   "cell_type": "code",
   "execution_count": 4,
   "id": "ef4bc93b",
   "metadata": {},
   "outputs": [
    {
     "data": {
      "image/png": "[encoded data removed]",
      "text/plain": [
       "<Figure size 432x288 with 2 Axes>"
      ]
     },
     "metadata": {
      "needs_background": "light"
     },
     "output_type": "display_data"
    }
   ],
   "source": [
    "gen_heatmap(df, \"Class\")"
   ]
  },
  {
   "cell_type": "code",
   "execution_count": null,
   "id": "617d7106",
   "metadata": {},
   "outputs": [],
   "source": []
  }
 ],
 "metadata": {
  "kernelspec": {
   "display_name": "Python 3",
   "language": "python",
   "name": "python3"
  },
  "language_info": {
   "codemirror_mode": {
    "name": "ipython",
    "version": 3
   },
   "file_extension": ".py",
   "mimetype": "text/x-python",
   "name": "python",
   "nbconvert_exporter": "python",
   "pygments_lexer": "ipython3",
   "version": "3.8.8"
  }
 },
 "nbformat": 4,
 "nbformat_minor": 5
}
